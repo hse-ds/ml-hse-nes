{
  "cells": [
    {
      "cell_type": "markdown",
      "metadata": {
        "id": "ioQvNWCU0J8s"
      },
      "source": [
        "# Seminar 2. Linear regression\n",
        "\n",
        "**Main source:** https://github.com/esokolov/ml-course-hse/blob/master/2023-fall/seminars/sem02-sklearn-linregr.ipynb"
      ]
    },
    {
      "cell_type": "code",
      "execution_count": null,
      "metadata": {
        "id": "bW-dJoYx0J8w"
      },
      "outputs": [],
      "source": [
        "import matplotlib.pyplot as plt\n",
        "import seaborn as sns\n",
        "import pandas as pd\n",
        "import numpy as np\n",
        "import warnings\n",
        "warnings.simplefilter(\"ignore\")\n",
        "%matplotlib inline\n",
        "\n",
        "sns.set(style=\"darkgrid\")"
      ]
    },
    {
      "cell_type": "markdown",
      "metadata": {
        "id": "vjul_C2m0J8x"
      },
      "source": [
        "# Введение в линейные модели"
      ]
    },
    {
      "cell_type": "markdown",
      "metadata": {
        "id": "VEYYN-ZL0J8y"
      },
      "source": [
        "Напомним, что линейная регрессия &mdash; это модель следующего вида:\n",
        "$$a(x) = \\langle w, x \\rangle + w_0$$\n",
        "где $w \\in \\mathbb{R}^d$, $w_0 \\in \\mathbb{R}$. Обучить линейную регрессию &mdash; значит найти $w$ и $w_0$.\n",
        "\n",
        "В машинном обучении часто говорят об *обобщающей способности модели*, то есть о способности модели работать на новых, тестовых данных хорошо. Если модель будет идеально предсказывать выборку, на которой она обучалась, но при этом просто ее запомнит, не \"вытащив\" из данных никакой закономерности, от нее будет мало толку. Такую модель называют *переобученной*: она слишком подстроилась под обучающие примеры, не выявив никакой полезной закономерности, которая позволила бы ей совершать хорошие предсказания на данных, которые она ранее не видела.\n",
        "\n",
        "Рассмотрим следующий пример, на котором будет хорошо видно, что значит переобучение модели. Для этого нам понадобится сгенерировать синтетические данные. Рассмотрим зависимость $y(x) = \\cos(1.5\\pi x)$, $y$ &mdash; целевая переменная, а $x$ - объект (просто число от 0 до 1). В жизни мы наблюдаем какое-то конечное количество пар объект-таргет, поэтому смоделируем это, взяв 30 случайных точек $x_i$ в отрезке $[0;1]$. Более того, в реальной жизни целевая переменная может быть зашумленной (измерения в жизни не всегда точны), смоделируем это, зашумив значение функции нормальным шумом: $\\tilde{y}_i = y(x_i) + \\mathcal{N}(0, 0.01)$.\n",
        "\n",
        "Попытаемся обучить три разных линейных модели: признаки для первой &mdash;  $\\{x\\}$, для второй &mdash; $\\{x, x^2, x^3, x^4\\}$, для третьей &mdash; $\\{x, \\dots, x^{20}\\}$."
      ]
    },
    {
      "cell_type": "code",
      "execution_count": null,
      "metadata": {
        "id": "wFUgcdOW0J8z"
      },
      "outputs": [],
      "source": [
        "from sklearn.linear_model import LinearRegression\n",
        "\n",
        "np.random.seed(36)\n",
        "x = np.linspace(0, 1, 100)\n",
        "y = np.cos(1.5 * np.pi * x)\n",
        "\n",
        "x_objects = np.random.uniform(0, 1, size=30)\n",
        "y_objects = np.cos(1.5 * np.pi * x_objects) + np.random.normal(scale=0.1, size=x_objects.shape)\n",
        "\n",
        "from sklearn.preprocessing import PolynomialFeatures\n",
        "fig, axs = plt.subplots(figsize=(16, 4), ncols=3)\n",
        "for i, degree in enumerate([1, 4, 20]):\n",
        "    X_objects = PolynomialFeatures(degree, include_bias=False).fit_transform(x_objects[:, None])\n",
        "    X = PolynomialFeatures(degree, include_bias=False).fit_transform(x[:, None])\n",
        "    regr = LinearRegression().fit(X_objects, y_objects)\n",
        "    y_pred = regr.predict(X)\n",
        "    axs[i].plot(x, y, label=\"Real function\")\n",
        "    axs[i].scatter(x_objects, y_objects, label=\"Data\")\n",
        "    axs[i].plot(x, y_pred, label=\"Prediction\")\n",
        "    if i == 0:\n",
        "        axs[i].legend()\n",
        "    axs[i].set_title(\"Degree = %d\" % degree)\n",
        "    axs[i].set_xlabel(\"$x$\")\n",
        "    axs[i].set_ylabel(\"$f(x)$\")\n",
        "    axs[i].set_ylim(-2, 2)"
      ]
    },
    {
      "cell_type": "markdown",
      "metadata": {
        "id": "4s3_hwJW0J80"
      },
      "source": [
        "**Вопрос 1**: Почему первая модель получилась плохой, а третья переобучилась?\n",
        "\n",
        "Чтобы избежать переобучения, модель регуляризуют. Обычно переобучения в линейных моделях связаны с большими весами, а поэтому модель часто штрафуют за большие значения весов, добавляя к функционалу качества, например, квадрат $\\ell^2$-нормы вектора $w$:\n",
        "\n",
        "$$Q_{reg}(X, y, a) = Q(X, y, a) + \\lambda \\|w\\|_2^2$$\n",
        "\n",
        "Это слагаемое называют $\\ell_2$-регуляризатором, а коэффициент $\\lambda$ &mdash; коэффициентом регуляризации. Более подробно о регуляризации и переобучении вы узнаете из лекций.\n",
        "\n",
        "**Вопрос 2**: Почему большие веса в линейной модели &mdash; плохо?\n",
        "\n",
        "**Вопрос 3**: Почему регуляризовать $w_0$ &mdash; плохая идея?\n",
        "\n",
        "**Вопрос 4**: На что влияет коэффициент $\\lambda$? Что будет происходить с моделью, если $\\lambda$ начать уменьшать? Что будет, если $\\lambda$ сделать слишком большим?"
      ]
    },
    {
      "cell_type": "markdown",
      "metadata": {
        "id": "qdsEqEyy0J81"
      },
      "source": [
        "# Часть 1. Загружаем данные"
      ]
    },
    {
      "cell_type": "markdown",
      "metadata": {
        "id": "ywQnweNh0J82"
      },
      "source": [
        "Мы будем работать с данными из соревнования [House Prices: Advanced Regression Techniques](https://www.kaggle.com/c/house-prices-advanced-regression-techniques/overview), в котором требовалось предсказать стоимость жилья. Давайте сначала загрузим и немного изучим данные (можно взять `train.csv` со страницы соревнования и переименовать в `train_sem2.csv`)."
      ]
    },
    {
      "cell_type": "code",
      "execution_count": null,
      "metadata": {
        "id": "he5x0MEc0J83"
      },
      "outputs": [],
      "source": [
        "!wget  -O 'train_sem2.csv' -q 'https://www.dropbox.com/s/6dxq90t0prn2vaw/_train_sem2.csv?dl=0'"
      ]
    },
    {
      "cell_type": "code",
      "execution_count": null,
      "metadata": {
        "id": "MeDM33i00J83"
      },
      "outputs": [],
      "source": [
        "data = pd.read_csv(\"train_sem2.csv\")\n",
        "data.head()"
      ]
    },
    {
      "cell_type": "code",
      "source": [
        "data.shape"
      ],
      "metadata": {
        "id": "rWfq6kWI2RVp"
      },
      "execution_count": null,
      "outputs": []
    },
    {
      "cell_type": "code",
      "source": [
        "data.columns"
      ],
      "metadata": {
        "id": "BoVhC5Gz2VFR"
      },
      "execution_count": null,
      "outputs": []
    },
    {
      "cell_type": "markdown",
      "source": [
        "Первое, что стоит заметить &mdash; у нас в данных есть уникальное для каждого объекта поле id. Обычно такие поля только мешают и способствуют переобучению. Удалим это поле из данных.\n",
        "\n",
        "Разделим данные на обучающую и тестовую выборки. Для простоты не будем выделять дополнительно валидационную выборку (хотя это обычно стоит делать, она нужна для подбора гиперпараметров модели, то есть параметров, которые нельзя подбирать по обучающей выборке). Дополнительно нам придется отделить значения целевой переменной от данных."
      ],
      "metadata": {
        "id": "PlYTWbmv2rIg"
      }
    },
    {
      "cell_type": "code",
      "execution_count": null,
      "metadata": {
        "id": "SYHr4T9Y0J85"
      },
      "outputs": [],
      "source": [
        "from sklearn.model_selection import train_test_split\n",
        "\n",
        "data = data.drop(columns=[\"Id\"])\n",
        "\n",
        "y = data[\"SalePrice\"]\n",
        "X = data.drop(columns=[\"SalePrice\"])\n",
        "\n",
        "X_train, X_test, y_train, y_test = train_test_split(X, y, test_size=0.3, random_state=10)"
      ]
    },
    {
      "cell_type": "markdown",
      "metadata": {
        "id": "J94EIw5a0J85"
      },
      "source": [
        "Посмотрим сначала на значения целевой переменной."
      ]
    },
    {
      "cell_type": "code",
      "execution_count": null,
      "metadata": {
        "id": "d-xzqmG70J86"
      },
      "outputs": [],
      "source": [
        "sns.distplot(y_train)\n",
        "plt.show()"
      ]
    },
    {
      "cell_type": "markdown",
      "metadata": {
        "id": "AJr_ULQk0J87"
      },
      "source": [
        "Судя по гистограмме, у нас есть примеры с нетипично большой стоимостью, что может помешать нам, если наша функция потерь слишком чувствительна к выбросам. В дальнейшем мы рассмотрим способы, как минимизировать ущерб от этого."
      ]
    },
    {
      "cell_type": "markdown",
      "metadata": {
        "id": "G0OOVBCR0J87"
      },
      "source": [
        "Так как для решения нашей задачи мы бы хотели обучить линейную регрессию, было бы хорошо найти признаки, \"наиболее линейно\" связанные с целевой переменной, иначе говоря, посмотреть на коэффициент корреляции Пирсона между признаками и целевой переменной. Корреляция Пирсона записывается следующим образом:\n",
        "\n",
        "$$\n",
        "\\text{corr}(X, Y)=\\frac{\\operatorname{cov}_{X Y}}{\\sigma_X \\sigma_Y}=\\frac{\\sum_{i=1}^n(X_i - \\bar{X})(Y_i - \\bar{Y})}{\\sqrt{\\sum_{i=1}^n(X_i - \\bar{X})^2 \\sum_{i=1}^n(Y_i - \\bar{Y})^2}}\n",
        "$$\n",
        "\n",
        "Заметим, что не все признаки являются числовыми, пока что мы не будем рассматривать такие признаки."
      ]
    },
    {
      "cell_type": "code",
      "execution_count": null,
      "metadata": {
        "id": "VsxSlMMY0J88"
      },
      "outputs": [],
      "source": [
        "numeric_data = X_train.select_dtypes([np.number])\n",
        "numeric_data_mean = numeric_data.mean()\n",
        "numeric_features = numeric_data.columns\n",
        "\n",
        "X_train = X_train.fillna(numeric_data_mean)\n",
        "X_test = X_test.fillna(numeric_data_mean)\n",
        "\n",
        "correlations = X_train[numeric_features].corrwith(y_train).sort_values(ascending=False)\n",
        "\n",
        "\n",
        "plot = sns.barplot(y=correlations.index, x=correlations)\n",
        "plot.figure.set_size_inches(15, 10)"
      ]
    },
    {
      "cell_type": "markdown",
      "metadata": {
        "id": "8fBUwqP50J89"
      },
      "source": [
        "Посмотрим на признаки из начала списка. Для этого нарисуем график зависимости целевой переменной от каждого из признаков. На этом графике каждая точка соответствует паре признак-таргет (такие графики называются scatter-plot)."
      ]
    },
    {
      "cell_type": "code",
      "source": [
        "fig, axs = plt.subplots(figsize=(16, 5), ncols=3)\n",
        "for i, feature in enumerate(['OverallCond', 'EnclosedPorch',\n",
        "       'KitchenAbvGr']):\n",
        "    axs[i].scatter(X_train[feature], y_train, alpha=0.2)\n",
        "    axs[i].set_xlabel(feature)\n",
        "    axs[i].set_ylabel(\"SalePrice\")\n",
        "plt.tight_layout()"
      ],
      "metadata": {
        "id": "VSJISgNCXjww"
      },
      "execution_count": null,
      "outputs": []
    },
    {
      "cell_type": "code",
      "execution_count": null,
      "metadata": {
        "id": "5q0MF53v0J8-"
      },
      "outputs": [],
      "source": [
        "fig, axs = plt.subplots(figsize=(16, 5), ncols=3)\n",
        "for i, feature in enumerate([\"GrLivArea\", \"GarageArea\", \"TotalBsmtSF\"]):\n",
        "    axs[i].scatter(X_train[feature], y_train, alpha=0.2)\n",
        "    axs[i].set_xlabel(feature)\n",
        "    axs[i].set_ylabel(\"SalePrice\")\n",
        "plt.tight_layout()"
      ]
    },
    {
      "cell_type": "markdown",
      "metadata": {
        "id": "sUE2t-ev0J8_"
      },
      "source": [
        "Видим, что между этими признаками и целевой переменной действительно наблюдается линейная зависимость.\n"
      ]
    },
    {
      "cell_type": "markdown",
      "metadata": {
        "id": "2_mtv8B60J9A"
      },
      "source": [
        "# Модель"
      ]
    },
    {
      "cell_type": "markdown",
      "metadata": {
        "id": "abrDExTO0J9A"
      },
      "source": [
        "Попробуем обучить линейную регрессию на числовых признаках из нашего датасета. Для простых моделей (линейные модели, решающее дерево, ...) отлично подходит `sklearn`: в нем очень понятный и простой интерфейс. В `sklearn` есть несколько классов, реализующих линейную регрессию:\n",
        "* [`LinearRegression`](https://scikit-learn.org/stable/modules/generated/sklearn.linear_model.LinearRegression.html) &mdash; \"классическая\" линейная регрессия с оптимизацией MSE. Веса находятся как точное решение: $w^* = (X^TX)^{-1}X^Ty$\n",
        "* [`Ridge`](https://scikit-learn.org/stable/modules/generated/sklearn.linear_model.Ridge.html) &mdash; линейная регрессия с оптимизацией MSE и $\\ell_2$-регуляризацией\n",
        "* [`Lasso`](https://scikit-learn.org/stable/modules/generated/sklearn.linear_model.Lasso.html) &mdash; линейная регрессия с оптимизацией MSE и $\\ell_1$-регуляризацией\n",
        "* [`ElasticNet`](https://scikit-learn.org/stable/modules/generated/sklearn.linear_model.ElasticNet.html) &mdash; линейная регрессия с оптимизацией MSE и комбо $\\ell_1$ и $\\ell_2$-регуляризаций\n",
        "\n",
        "У моделей из `sklearn` есть методы `fit` и `predict`. Первый принимает на вход обучающую выборку и вектор целевых переменных и обучает модель, второй, будучи вызванным после обучения модели, возвращает предсказание на выборке. Попробуем обучить нашу первую модель на числовых признаках, которые у нас сейчас есть:"
      ]
    },
    {
      "cell_type": "code",
      "execution_count": null,
      "metadata": {
        "id": "UMVEeDAe0J9B"
      },
      "outputs": [],
      "source": [
        "from sklearn.linear_model import LinearRegression\n",
        "from sklearn.metrics import mean_squared_error as mse\n",
        "\n",
        "model = LinearRegression()\n",
        "model.fit(X_train[numeric_features], y_train)\n",
        "y_pred = model.predict(X_test[numeric_features])\n",
        "y_train_pred = model.predict(X_train[numeric_features])\n",
        "\n",
        "print(f\"Test RMSE = {mse(y_test, y_pred) ** 0.5:.2f}\")\n",
        "print(f\"Train RMSE = {mse(y_train, y_train_pred) ** 0.5:.2f}\")"
      ]
    },
    {
      "cell_type": "markdown",
      "metadata": {
        "id": "V4m0frbq0J9C"
      },
      "source": [
        "Мы обучили первую модель и даже посчитали ее качество на отложенной выборке! Давайте теперь посмотрим на то, как можно оценить качество модели с помощью кросс-валидации. Принцип кросс-валидации изображен на рисунке\n",
        "\n",
        "\n",
        "\n"
      ]
    },
    {
      "cell_type": "markdown",
      "source": [
        "![image.png](data:image/png;base64,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)"
      ],
      "metadata": {
        "id": "RxoPCa-ymwNm"
      }
    },
    {
      "cell_type": "markdown",
      "source": [
        "При кросс-валидации мы делим обучающую выборку на $n$ частей (fold). Затем мы обучаем $n$ моделей: каждая модель обучается при отсутствии соответствующего фолда, то есть $i$-ая модель обучается на всей обучающей выборке, кроме объектов, которые попали в $i$-ый фолд (out-of-fold). Затем мы измеряем качество $i$-ой модели на $i$-ом фолде. Так как он не участвовал в обучении этой модели, мы получим \"честный результат\". После этого, для получения финального значения метрики качества, мы можем усреднить полученные нами $n$ значений."
      ],
      "metadata": {
        "id": "XGMkmHSwmvAh"
      }
    },
    {
      "cell_type": "code",
      "execution_count": null,
      "metadata": {
        "id": "P83rK6fc0J9C"
      },
      "outputs": [],
      "source": [
        "from sklearn.model_selection import cross_val_score\n",
        "\n",
        "X = X.fillna(numeric_data_mean)\n",
        "cv_scores = cross_val_score(model, X[numeric_features], y, cv=10, scoring=\"neg_root_mean_squared_error\")\n",
        "print(\"Cross validation scores:\\n\\t\", \"\\n\", *cv_scores, \"\\n\")\n",
        "print(f\"Mean CV MSE = {np.mean(-cv_scores):.2f}\")"
      ]
    },
    {
      "cell_type": "markdown",
      "metadata": {
        "id": "YZU4kUVo0J9C"
      },
      "source": [
        "Обратите внимание на то, что результаты `cv_scores` получились отрицательными. Это соглашение в `sklearn` (скоринговую функцию нужно максимизировать). Поэтому все стандартные скореры называются `neg_*`, например, `neg_root_mean_squared_error`."
      ]
    },
    {
      "cell_type": "markdown",
      "metadata": {
        "id": "vXOEWa_i0J9D"
      },
      "source": [
        "Обратите внимание, что по отложенной выборке и при кросс-валидации мы считаем RMSE (Root Mean Squared Error), хотя в функционале ошибки при обучении модели используется MSE.\n",
        "\n",
        "$$\\text{RMSE}(X, y, a) = \\sqrt{\\frac{1}{\\ell}\\sum_{i=1}^{\\ell} (y_i - a(x_i))^2}$$"
      ]
    },
    {
      "cell_type": "markdown",
      "metadata": {
        "id": "E3yKEtnn0J9D"
      },
      "source": [
        "Если бы RMSE не входил в стандартные метрики `sklearn`, можно было бы его определить через функцию `sklearn.metrics.make_scorer`."
      ]
    },
    {
      "cell_type": "code",
      "execution_count": null,
      "metadata": {
        "id": "QyzL8xQS0J9D"
      },
      "outputs": [],
      "source": [
        "from sklearn.metrics import make_scorer\n",
        "\n",
        "def rmse(y_true, y_pred):\n",
        "    error = (y_true - y_pred) ** 2\n",
        "    return np.sqrt(np.mean(error))\n",
        "\n",
        "rmse_scorer = make_scorer(\n",
        "    rmse,\n",
        "    greater_is_better=False # то есть это функция потерь, которую хотим минимизировать\n",
        ")"
      ]
    },
    {
      "cell_type": "code",
      "execution_count": null,
      "metadata": {
        "id": "kxoHYBlA0J9D"
      },
      "outputs": [],
      "source": [
        "from sklearn.model_selection import cross_val_score\n",
        "\n",
        "cv_scores = cross_val_score(model, X[numeric_features], y, cv=10, scoring=rmse_scorer)\n",
        "print(\"Cross validation scores:\\n\\t\", \"\\n\", *cv_scores, \"\\n\")\n",
        "print(f\"Mean CV MSE = {np.mean(-cv_scores):.2f}\")"
      ]
    },
    {
      "cell_type": "markdown",
      "metadata": {
        "id": "RpqDkLoz0J9E"
      },
      "source": [
        "Для того, чтобы иметь некоторую точку отсчета, удобно посчитать оптимальное значение функции потерь при константном предсказании.\n",
        "\n",
        "**Вопрос**: Чему равна оптимальная константа для RMSE?"
      ]
    },
    {
      "cell_type": "code",
      "execution_count": null,
      "metadata": {
        "id": "MRg1sEg10J9F"
      },
      "outputs": [],
      "source": [
        "best_constant = # YOUR CODE HERE\n",
        "\n",
        "print(f\"Test RMSE with best constant = {# YOUR CODE HERE }\")\n",
        "print(f\"Train RMSE with best constant = {# YOUR CODE HERE }\")"
      ]
    },
    {
      "cell_type": "markdown",
      "metadata": {
        "id": "PNBqgkBK0J9G"
      },
      "source": [
        "Посмотрим на веса модели"
      ]
    },
    {
      "cell_type": "code",
      "execution_count": null,
      "metadata": {
        "id": "PQNyc_WT0J9G"
      },
      "outputs": [],
      "source": [
        "def show_weights(features, weights, means, scales):\n",
        "    fig, axs = plt.subplots(figsize=(14, 10), ncols=3)\n",
        "    sorted_weights = sorted(zip(weights, features, means, scales), reverse=True)\n",
        "    weights, features, means, scales = zip(*sorted_weights)\n",
        "    features = list(features)\n",
        "\n",
        "    sns.barplot(y=features, x=list(weights), ax=axs[0])\n",
        "    axs[0].set_xlabel(\"Weight\")\n",
        "    sns.barplot(y=features, x=list(means), ax=axs[1])\n",
        "    axs[1].set_xlabel(\"Mean\")\n",
        "    sns.barplot(y=features, x=list(scales), ax=axs[2])\n",
        "    axs[2].set_xlabel(\"Scale\")\n",
        "    plt.tight_layout()"
      ]
    },
    {
      "cell_type": "code",
      "execution_count": null,
      "metadata": {
        "id": "m6AQDfVi0J9H"
      },
      "outputs": [],
      "source": [
        "show_weights(numeric_features, model.coef_, X_train[numeric_features].mean(), X_train[numeric_features].std())"
      ]
    },
    {
      "cell_type": "markdown",
      "metadata": {
        "id": "AILAkcKy0J9H"
      },
      "source": [
        "Будем масштабировать наши признаки перед обучением модели. Это, среди, прочего, сделает нашу регуляризацию более честной: теперь все признаки будут регуляризоваться в равной степени.\n",
        "\n",
        "Для этого воспользуемся трансформером [`StandardScaler`](https://scikit-learn.org/stable/modules/generated/sklearn.preprocessing.StandardScaler.html). Трансформеры в `sklearn` имеют методы `fit` и `transform` (а еще `fit_transform`). Метод `fit` принимает на вход обучающую выборку и считает по ней необходимые значения (например статистики, как `StandardScaler`: среднее и стандартное отклонение каждого из признаков). `transform` применяет преобразование к переданной выборке."
      ]
    },
    {
      "cell_type": "code",
      "execution_count": null,
      "metadata": {
        "id": "lR9OKHTb0J9I"
      },
      "outputs": [],
      "source": [
        "from sklearn.preprocessing import StandardScaler\n",
        "\n",
        "scaler = StandardScaler()\n",
        "X_train_scaled = scaler.fit_transform(X_train[numeric_features])\n",
        "X_test_scaled = scaler.transform(X_test[numeric_features])\n",
        "\n",
        "model = LinearRegression()\n",
        "model.fit(X_train_scaled, y_train)\n",
        "y_pred = model.predict(X_test_scaled)\n",
        "y_train_pred = model.predict(X_train_scaled)\n",
        "\n",
        "print(f\"Test RMSE = {mse(y_test, y_pred) ** 0.5:.2f}\")\n",
        "print(f\"Train RMSE = {mse(y_train, y_train_pred) ** 0.5:.2f}\")"
      ]
    },
    {
      "cell_type": "code",
      "execution_count": null,
      "metadata": {
        "id": "JcYG5osZ0J9I"
      },
      "outputs": [],
      "source": [
        "means = pd.Series(data=X_train_scaled.mean(axis=0), index=numeric_features)\n",
        "scales = pd.Series(data=X_train_scaled.std(axis=0), index=numeric_features)\n",
        "show_weights(numeric_features, model.coef_, means, scales)"
      ]
    },
    {
      "cell_type": "code",
      "source": [],
      "metadata": {
        "id": "sV5LNs1vDgTp"
      },
      "execution_count": null,
      "outputs": []
    }
  ],
  "metadata": {
    "kernelspec": {
      "display_name": "Python 3 (ipykernel)",
      "language": "python",
      "name": "python3"
    },
    "language_info": {
      "codemirror_mode": {
        "name": "ipython",
        "version": 3
      },
      "file_extension": ".py",
      "mimetype": "text/x-python",
      "name": "python",
      "nbconvert_exporter": "python",
      "pygments_lexer": "ipython3",
      "version": "3.10.6"
    },
    "colab": {
      "provenance": []
    }
  },
  "nbformat": 4,
  "nbformat_minor": 0
}