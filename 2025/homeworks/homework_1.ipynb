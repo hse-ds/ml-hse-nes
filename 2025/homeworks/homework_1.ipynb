{
  "cells": [
    {
      "cell_type": "markdown",
      "id": "7247b8d4",
      "metadata": {
        "id": "7247b8d4"
      },
      "source": [
        "# Homework 1\n",
        "This homework consists of 2 parts:\n",
        "* Numpy (5 points)\n",
        "* Matplotlib (5 points)\n",
        "\n",
        "\n",
        "The score for each task is described in the comments before the task.\n",
        "\n",
        "The task is performed independently, otherwise all those involved will receive 0 points :) If you have found a solution to any of the tasks (or part of it) in an open source, you must specify a link to this source in a separate block at the end of your work. Otherwise, **the work will also be rated at 0 points**."
      ]
    },
    {
      "cell_type": "markdown",
      "id": "1966e3d0",
      "metadata": {
        "id": "1966e3d0"
      },
      "source": [
        "## Part 1. Numpy\n",
        "It is forbidden to use **while**, **for**, **if** in this part. All operations must be performed in numpy calculation. Recall that using, for example, max instead of np.max is also a suboptimal step. The solution will be counted if it satisfies the conditions above and passes asserts."
      ]
    },
    {
      "cell_type": "code",
      "execution_count": null,
      "id": "03cf459c",
      "metadata": {
        "id": "03cf459c"
      },
      "outputs": [],
      "source": [
        "import numpy as np\n",
        "import matplotlib.pyplot as plt\n",
        "import sklearn"
      ]
    },
    {
      "cell_type": "markdown",
      "id": "cDsKeK4EaWrE",
      "metadata": {
        "id": "cDsKeK4EaWrE"
      },
      "source": [
        "### Task 1 (1 point)"
      ]
    },
    {
      "cell_type": "code",
      "execution_count": null,
      "id": "439425f7",
      "metadata": {
        "id": "439425f7"
      },
      "outputs": [],
      "source": [
        "\"\"\"\n",
        "description: finds the maximum element in the vector among the elements preceded by zero\n",
        "input: np.array([8, 6, 0, 3])\n",
        "output: 3\n",
        "\"\"\"\n",
        "def max_after_zero(x: np.array) -> int:\n",
        "    assert False, 'not implemented'"
      ]
    },
    {
      "cell_type": "code",
      "execution_count": null,
      "id": "a58b05aa",
      "metadata": {
        "id": "a58b05aa"
      },
      "outputs": [],
      "source": [
        "assert max_after_zero(np.array([0, 1, 2, 0, 6, 0, 10, 0])) == 10\n",
        "assert max_after_zero(np.array([8, 1, 2, 0, 4, 0, 5])) == 5\n",
        "assert max_after_zero(np.array([-8, -1, -2, 0, -4, 0, -5])) == -4\n",
        "print(\"OK\")"
      ]
    },
    {
      "cell_type": "markdown",
      "id": "zT54XZpBaeHX",
      "metadata": {
        "id": "zT54XZpBaeHX"
      },
      "source": [
        "### Task 2 (1 point)"
      ]
    },
    {
      "cell_type": "code",
      "execution_count": null,
      "id": "0a3ff5e4",
      "metadata": {
        "id": "0a3ff5e4"
      },
      "outputs": [],
      "source": [
        "\"\"\"\n",
        "description: makes up a block matrix of four\n",
        "blocks, where each block is a given matrix\n",
        "\"\"\"\n",
        "def block_matrix(block: np.array) -> np.array:\n",
        "    assert False, 'not implemented'"
      ]
    },
    {
      "cell_type": "code",
      "execution_count": null,
      "id": "f0ce9850",
      "metadata": {
        "id": "f0ce9850"
      },
      "outputs": [],
      "source": [
        "block = np.array([[1, 3, 3], [7, 0, 0]])\n",
        "\n",
        "assert np.allclose(\n",
        "    block_matrix(block),\n",
        "    np.array([[1, 3, 3, 1, 3, 3],\n",
        "              [7, 0, 0, 7, 0, 0],\n",
        "              [1, 3, 3, 1, 3, 3],\n",
        "              [7, 0, 0, 7, 0, 0]])\n",
        ")\n",
        "print(\"OK\")"
      ]
    },
    {
      "cell_type": "markdown",
      "id": "dzvsvRm6apVb",
      "metadata": {
        "id": "dzvsvRm6apVb"
      },
      "source": [
        "### Task 3 (1 point)"
      ]
    },
    {
      "cell_type": "code",
      "execution_count": null,
      "id": "b4535fbf",
      "metadata": {
        "id": "b4535fbf"
      },
      "outputs": [],
      "source": [
        "\"\"\"\n",
        "description: calculates the product of all\n",
        "nonzero diagonal elements of a square matrix\n",
        "\"\"\"\n",
        "def diag_prod(matrix: np.array) -> int:\n",
        "    assert False, 'not implemented'"
      ]
    },
    {
      "cell_type": "code",
      "execution_count": null,
      "id": "fa039421",
      "metadata": {
        "id": "fa039421"
      },
      "outputs": [],
      "source": [
        "matrix = np.array([[0, 1, 2, 3],\n",
        "                   [4, 5, 6, 7],\n",
        "                   [8, 9, 10, 11],\n",
        "                   [12, 13, 14, 15]])\n",
        "\n",
        "assert diag_prod(matrix) == 750\n",
        "print(\"OK\")"
      ]
    },
    {
      "cell_type": "markdown",
      "id": "1U5HMX3Marze",
      "metadata": {
        "id": "1U5HMX3Marze"
      },
      "source": [
        "### Task 4 (1 points)"
      ]
    },
    {
      "cell_type": "code",
      "execution_count": null,
      "id": "cfa98502",
      "metadata": {
        "id": "cfa98502"
      },
      "outputs": [],
      "source": [
        "\"\"\"\n",
        "description: this class implements StandardScaler from the sklearn library:\n",
        "https://scikit-learn.org/stable/modules/generated/sklearn.preprocessing.StandardScaler.html\n",
        "As input, the fit method accepts a matrix where the features are arranged in\n",
        "columns, the fit method must remember mean (u) and standard deviation (s) for each of the features,\n",
        "and the transform must normalize the matrix with the pre-calculated mean and standard deviation.\n",
        "The transformation : z = (x - u) / s, where x - initial feature value\n",
        "\"\"\"\n",
        "class StandardScaler:\n",
        "    def fit(self, X: np.array):\n",
        "        assert False, 'not implemented'\n",
        "\n",
        "    def transform(self, X: np.array) -> np.array:\n",
        "        assert False, 'not implemented'"
      ]
    },
    {
      "cell_type": "code",
      "execution_count": null,
      "id": "352d0513",
      "metadata": {
        "id": "352d0513"
      },
      "outputs": [],
      "source": [
        "matrix = np.array([[1, 4, 4200], [0, 10, 5000], [1, 2, 1000]])\n",
        "scaler = StandardScaler()\n",
        "\n",
        "scaler.fit(matrix)\n",
        "\n",
        "assert np.allclose(\n",
        "    scaler.transform(matrix),\n",
        "    np.array([[ 0.7071, -0.39223,  0.46291],\n",
        "              [-1.4142,  1.37281,  0.92582],\n",
        "              [ 0.7071, -0.98058, -1.38873]])\n",
        ")\n",
        "print(\"OK\")"
      ]
    },
    {
      "cell_type": "markdown",
      "id": "VgfO8yt7atav",
      "metadata": {
        "id": "VgfO8yt7atav"
      },
      "source": [
        "### Task 5 (1 point)"
      ]
    },
    {
      "cell_type": "code",
      "execution_count": null,
      "id": "7d68dc80",
      "metadata": {
        "id": "7d68dc80"
      },
      "outputs": [],
      "source": [
        "\n",
        "\"\"\"\n",
        "description: calculates the antiderivative polynomial (take 42 as a constant)\n",
        "for example, an array of coefficients [6, 0, 1] corresponds to 6x^2 + 1\n",
        "\"\"\"\n",
        "def antiderivative(coefs: np.array) -> np.array:\n",
        "    assert False, 'not implemented'"
      ]
    },
    {
      "cell_type": "code",
      "execution_count": null,
      "id": "41288733",
      "metadata": {
        "id": "41288733"
      },
      "outputs": [],
      "source": [
        "coefs = np.array([4, 6, 0, 1])\n",
        "\n",
        "assert np.allclose(\n",
        "    antiderivative(coefs),\n",
        "    np.array([1., 2., 0., 1., 42.])\n",
        ")\n",
        "print(\"OK\")"
      ]
    },
    {
      "cell_type": "code",
      "execution_count": null,
      "id": "d5bd37b9",
      "metadata": {
        "id": "d5bd37b9"
      },
      "outputs": [],
      "source": [
        "coefs = np.array([1, 7, -12, 21, -6])\n",
        "\n",
        "assert np.allclose(\n",
        "    antiderivative(coefs),\n",
        "    np.array([ 0.2, 1.75, -4., 10.5, -6., 42.])\n",
        ")\n",
        "print(\"OK\")"
      ]
    },
    {
      "cell_type": "markdown",
      "id": "1048576d",
      "metadata": {
        "id": "1048576d"
      },
      "source": [
        "## Part 2. Matplotlib"
      ]
    },
    {
      "cell_type": "markdown",
      "source": [
        "Graphs should be readable without having to look into the code:\n",
        "*   Graph should have a title\n",
        "*   Subgraphs should have  titles\n",
        "*   Axes should be labeled\n",
        "*   Labels should not overlap\n",
        "*   Font should be readable\n",
        "*   The colors should be easily distinguishable\n",
        "\n"
      ],
      "metadata": {
        "id": "kqeyuabFgU-3"
      },
      "id": "kqeyuabFgU-3"
    },
    {
      "cell_type": "markdown",
      "id": "0fb7aaa9",
      "metadata": {
        "id": "0fb7aaa9"
      },
      "source": [
        "### Task 1 (2.5 points)\n",
        "Generate a Gaussian vector of dimension 2 from 100 points (choose $\\mu$ and $\\sigma$ on your choice)."
      ]
    },
    {
      "cell_type": "code",
      "execution_count": null,
      "id": "8f1ca529",
      "metadata": {
        "id": "8f1ca529"
      },
      "outputs": [],
      "source": [
        "# Your code goes here"
      ]
    },
    {
      "cell_type": "markdown",
      "source": [
        "Check [the three sigma rule](https://en.wikipedia.org/wiki/68-95-99.7_rule): 99.7% of the values of normal distribution $\\in [\\mu - 3\\sigma; \\mu + 3\\sigma]$.\n",
        "\n",
        "Let's visually check this rule for generated 2D data. Draw:\n",
        "\n",
        "\n",
        "\n",
        "*   The generated data;\n",
        "*   Point $\\mu$ in a separate color;\n",
        "*   A circle centered in $\\mu$ with a radius such that 0.99 of all points fall there;\n",
        "*   A circle with a radius of 3 sigma;\n",
        "\n"
      ],
      "metadata": {
        "id": "rMA5s08zYMU6"
      },
      "id": "rMA5s08zYMU6"
    },
    {
      "cell_type": "code",
      "source": [
        "# Your code goes here"
      ],
      "metadata": {
        "id": "WJn0_r9kZSZd"
      },
      "id": "WJn0_r9kZSZd",
      "execution_count": null,
      "outputs": []
    },
    {
      "cell_type": "markdown",
      "source": [
        "Possible reference picture:\n",
        "\n",
        "![3sigma_2d_check.png](data:image/png;base64,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)"
      ],
      "metadata": {
        "id": "7jLL4mNqV2j-"
      },
      "id": "7jLL4mNqV2j-"
    },
    {
      "cell_type": "markdown",
      "source": [
        "Draw histograms with 10 buckets for each dimension.\n",
        "\n",
        "**Hint** use `plt.hist2d`"
      ],
      "metadata": {
        "id": "afDBpcn_ZRSF"
      },
      "id": "afDBpcn_ZRSF"
    },
    {
      "cell_type": "code",
      "source": [
        "# Your code goes here"
      ],
      "metadata": {
        "id": "isdW5tpnZmxd"
      },
      "id": "isdW5tpnZmxd",
      "execution_count": null,
      "outputs": []
    },
    {
      "cell_type": "markdown",
      "id": "b6414734",
      "metadata": {
        "id": "b6414734"
      },
      "source": [
        "### Task 2 (2.5 points)"
      ]
    },
    {
      "cell_type": "markdown",
      "id": "6e8398b0",
      "metadata": {
        "id": "6e8398b0"
      },
      "source": [
        "Upload the dataset  [fischer's irises](https://ru.wikipedia.org/wiki/Ирисы_Фишера)."
      ]
    },
    {
      "cell_type": "code",
      "execution_count": null,
      "id": "f87bc894",
      "metadata": {
        "id": "f87bc894"
      },
      "outputs": [],
      "source": [
        "import pandas as pd\n",
        "from sklearn.datasets import load_iris\n",
        "\n",
        "iris = load_iris(as_frame=True)\n",
        "X, y = iris.data, iris.target\n",
        "X.sample(3)"
      ]
    },
    {
      "cell_type": "markdown",
      "source": [
        "Compute correlation between features"
      ],
      "metadata": {
        "id": "vvjBvsvfS0Pr"
      },
      "id": "vvjBvsvfS0Pr"
    },
    {
      "cell_type": "code",
      "source": [
        "# Your code goes here"
      ],
      "metadata": {
        "id": "BP5X2_V5S4u6"
      },
      "id": "BP5X2_V5S4u6",
      "execution_count": null,
      "outputs": []
    },
    {
      "cell_type": "markdown",
      "source": [
        "To make investigating correlation more convenient build a **heatmap** using matplotlib.\n",
        "\n",
        "Rows and columns should be signed with feature names.  The positive correlation should be displayed in green, the reverse in red, and the absence of correlation in white. Make the plot big enough.\n",
        "\n",
        "**Hint:** use `plt.xticks`, `plt.yticks`, `plt.imshow`, `plt.colorbar`"
      ],
      "metadata": {
        "id": "knyMi5sETAV3"
      },
      "id": "knyMi5sETAV3"
    },
    {
      "cell_type": "code",
      "source": [
        "# Your code goes here"
      ],
      "metadata": {
        "id": "iAld2TdzLmZD"
      },
      "id": "iAld2TdzLmZD",
      "execution_count": null,
      "outputs": []
    },
    {
      "cell_type": "markdown",
      "source": [
        "Build the same heatmap using seaborn.heatmap"
      ],
      "metadata": {
        "id": "B-l_d7sBMUAH"
      },
      "id": "B-l_d7sBMUAH"
    },
    {
      "cell_type": "code",
      "source": [
        "import seaborn as sns\n",
        "\n",
        "# Your code goes here"
      ],
      "metadata": {
        "id": "aeQIZRyKMURd"
      },
      "id": "aeQIZRyKMURd",
      "execution_count": null,
      "outputs": []
    }
  ],
  "metadata": {
    "colab": {
      "provenance": []
    },
    "kernelspec": {
      "display_name": "Python 3",
      "language": "python",
      "name": "python3"
    },
    "language_info": {
      "codemirror_mode": {
        "name": "ipython",
        "version": 3
      },
      "file_extension": ".py",
      "mimetype": "text/x-python",
      "name": "python",
      "nbconvert_exporter": "python",
      "pygments_lexer": "ipython3",
      "version": "3.8.10"
    }
  },
  "nbformat": 4,
  "nbformat_minor": 5
}