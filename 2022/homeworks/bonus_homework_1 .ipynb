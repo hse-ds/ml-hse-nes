{
  "cells": [
    {
      "cell_type": "markdown",
      "source": [
        "## **Бонусная домашняя работа №1.**\n",
        "\n",
        "Максимальная оценка - 5 баллов.\n",
        "\n",
        "Бонусные баллы можно суммировать с баллами за другие домашние работы. За домашние работы в сумме нельзя набрать баллов больше, чем сумма баллов за обязательные домашние работы.\n",
        "\n",
        "Если вы нашли решение какого-то из заданий (или его часть) в открытом источнике, необходимо указать ссылку на этот источник в отдельном блоке в конце вашей работы."
      ],
      "metadata": {
        "id": "UqqA7Jph8T2o"
      }
    },
    {
      "cell_type": "markdown",
      "source": [
        "В данной домашней работе требуется реализовать разбиение элементов выборки в вершине дерева."
      ],
      "metadata": {
        "id": "9iAZwRjCeAQO"
      }
    },
    {
      "cell_type": "markdown",
      "source": [
        "$R_m$ - множество объектов в разбиваемой вершине, $j$ - номер признака, по которому происходит разбиение, $t$ - порог разбиения.\n",
        "\n",
        "Критерий ошибки:\n",
        "\n",
        "$$\n",
        "Q(R_m, j, t) = \\frac{|R_\\ell|}{|R_m|}H(R_\\ell) + \\frac{|R_r|}{|R_m|}H(R_r) \\to \\min_{j, t}\n",
        "$$\n",
        "\n",
        "$R_\\ell$ - множество объектов в левом поддереве, $R_r$ - множество объектов в правом поддереве.\n",
        "\n",
        "$H(R)$ - критерий информативности, с помощью которого можно оценить качество распределения целевой переменной среди объектов множества $R$."
      ],
      "metadata": {
        "id": "7zl0dnOpd3xX"
      }
    },
    {
      "cell_type": "code",
      "source": [
        "import numpy as np\n",
        "from typing import Iterable, List, Tuple"
      ],
      "metadata": {
        "id": "kHeOJOhD-TVX"
      },
      "execution_count": null,
      "outputs": []
    },
    {
      "cell_type": "code",
      "source": [
        "boston = load_boston()\n",
        "X = pd.DataFrame(data=boston[\"data\"], columns=boston[\"feature_names\"])\n",
        "X[\"target\"] = boston[\"target\"]"
      ],
      "metadata": {
        "id": "ZEuBxkrxdT-M"
      },
      "execution_count": null,
      "outputs": []
    },
    {
      "cell_type": "markdown",
      "metadata": {
        "id": "hirWI1Vw4Fle"
      },
      "source": [
        "**Задание 1 (1 балл)**: реализуйте подсчет критерия ошибки. Для этого реализуйте функции для подсчета значения критерия информативности, а также для разбиения вершины."
      ]
    },
    {
      "cell_type": "code",
      "execution_count": null,
      "metadata": {
        "id": "5bGstPZ14Flf"
      },
      "outputs": [],
      "source": [
        "def H(R: np.array) -> float:\n",
        "    \"\"\"\n",
        "    Compute impurity criterion for a fixed set of objects R.\n",
        "    Last column is assumed to contain target value\n",
        "    \"\"\"\n",
        "    #your code\n",
        "\n",
        "\n",
        "def split_node(R_m: np.array, feature: str, t: float) -> Iterable[np.array]:\n",
        "    \"\"\"\n",
        "    Split a fixed set of objects R_m given feature number and threshold t\n",
        "    \"\"\"\n",
        "    #your code\n",
        "\n",
        "\n",
        "def q_error(R_m: np.array, feature: str, t: float) -> float:\n",
        "    \"\"\"\n",
        "    Compute error criterion for given split parameters\n",
        "    \"\"\"\n",
        "    #your code\n"
      ]
    },
    {
      "cell_type": "markdown",
      "metadata": {
        "id": "z5vMn7Yu4Flg"
      },
      "source": [
        "**Задание 2 (1 балл)**: переберите все возможные разбиения обучающей выборки по одному из признаков и постройте график критерия ошибки в зависимости от значения порога."
      ]
    },
    {
      "cell_type": "code",
      "execution_count": null,
      "metadata": {
        "id": "73d0n-Ht4Flh"
      },
      "outputs": [],
      "source": [
        "#your code"
      ]
    },
    {
      "cell_type": "markdown",
      "metadata": {
        "id": "cdNVqLH24Flj"
      },
      "source": [
        "**Задание 3  (1 балл)**: Напишите функцию, находящую оптимальное разбиение данной вершины по данному признаку."
      ]
    },
    {
      "cell_type": "code",
      "execution_count": null,
      "metadata": {
        "id": "JnK6p2FU4Flk"
      },
      "outputs": [],
      "source": [
        "def get_optimal_split(R_m: np.array, feature: str) -> Tuple[float, List[float]]:\n",
        "  #your code"
      ]
    },
    {
      "cell_type": "markdown",
      "metadata": {
        "id": "WTwCYIgc4Fll"
      },
      "source": [
        "**Задание 4  (1 балл)**: Для первого разбиения найдите признак, показывающий наилучшее качество. Каков порог разбиения и значение качества? Постройте график критерия ошибки для данного признака в зависимости от значения порога."
      ]
    },
    {
      "cell_type": "code",
      "execution_count": null,
      "metadata": {
        "id": "GUl5daTc4Flo"
      },
      "outputs": [],
      "source": [
        "#your code"
      ]
    },
    {
      "cell_type": "markdown",
      "metadata": {
        "id": "qaSseANG4Flq"
      },
      "source": [
        " **Задание 5 (1 балл)**: Изобразите разбиение визуально. Для этого постройте диаграмму рассеяния целевой переменной в зависимости от значения входного признака. Далее изобразите вертикальную линию, соответствующую порогу разбиения."
      ]
    },
    {
      "cell_type": "code",
      "source": [
        "#your code"
      ],
      "metadata": {
        "id": "Cjw3cznv8Qn2"
      },
      "execution_count": null,
      "outputs": []
    }
  ],
  "metadata": {
    "colab": {
      "collapsed_sections": [],
      "provenance": []
    },
    "kernelspec": {
      "display_name": "Python 3",
      "language": "python",
      "name": "python3"
    },
    "language_info": {
      "codemirror_mode": {
        "name": "ipython",
        "version": 3
      },
      "file_extension": ".py",
      "mimetype": "text/x-python",
      "name": "python",
      "nbconvert_exporter": "python",
      "pygments_lexer": "ipython3",
      "version": "3.8.8"
    }
  },
  "nbformat": 4,
  "nbformat_minor": 0
}